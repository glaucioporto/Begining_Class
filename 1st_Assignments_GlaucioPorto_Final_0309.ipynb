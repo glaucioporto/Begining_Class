{
  "nbformat": 4,
  "nbformat_minor": 0,
  "metadata": {
    "kernelspec": {
      "display_name": "Python 3",
      "language": "python",
      "name": "python3"
    },
    "language_info": {
      "codemirror_mode": {
        "name": "ipython",
        "version": 3
      },
      "file_extension": ".py",
      "mimetype": "text/x-python",
      "name": "python",
      "nbconvert_exporter": "python",
      "pygments_lexer": "ipython3",
      "version": "3.6.8"
    },
    "colab": {
      "name": "1st_Assignments_GlaucioPorto_Final.ipynb",
      "provenance": []
    }
  },
  "cells": [
    {
      "cell_type": "markdown",
      "metadata": {
        "id": "W1tzsLl4KcpG",
        "colab_type": "text"
      },
      "source": [
        "## First list of exercises\n",
        "\n",
        "#### Ordered from the easiest to the \"hardest\"\n",
        "\n",
        "https://edabit.com/challenges/python3"
      ]
    },
    {
      "cell_type": "markdown",
      "metadata": {
        "id": "nt28I-jSKcpH",
        "colab_type": "text"
      },
      "source": [
        "1) Write a function that takes an integer minutes and converts it to seconds. <font color='green'>(EASY)</font>"
      ]
    },
    {
      "cell_type": "code",
      "metadata": {
        "id": "8HhI9aFGKcpI",
        "colab_type": "code",
        "colab": {}
      },
      "source": [
        "\n",
        "def seconds(x):\n",
        " return x*60\n"
      ],
      "execution_count": null,
      "outputs": []
    },
    {
      "cell_type": "code",
      "metadata": {
        "id": "m5MiPi2jPYVw",
        "colab_type": "code",
        "colab": {
          "base_uri": "https://localhost:8080/",
          "height": 34
        },
        "outputId": "ba55d52a-f45f-47b5-cf2b-b67bd8fd75e2"
      },
      "source": [
        "seconds(5)"
      ],
      "execution_count": null,
      "outputs": [
        {
          "output_type": "execute_result",
          "data": {
            "text/plain": [
              "300"
            ]
          },
          "metadata": {
            "tags": []
          },
          "execution_count": 13
        }
      ]
    },
    {
      "cell_type": "markdown",
      "metadata": {
        "id": "y6VQWGKYKcpP",
        "colab_type": "text"
      },
      "source": [
        "2) Create a function that converts a date formatted as MM/DD/YYYY to YYYYDDMM."
      ]
    },
    {
      "cell_type": "code",
      "metadata": {
        "id": "HkRX8gEdFySB",
        "colab_type": "code",
        "colab": {}
      },
      "source": [
        "# Quebrar por /; realocar de acordo com posição\n",
        "def date_inverter(d):\n",
        "  lista = d.split('/')\n",
        "  return (lista[2] + lista[1] + lista[0])"
      ],
      "execution_count": null,
      "outputs": []
    },
    {
      "cell_type": "code",
      "metadata": {
        "id": "CyQvZVlUF3_b",
        "colab_type": "code",
        "colab": {
          "base_uri": "https://localhost:8080/",
          "height": 35
        },
        "outputId": "35fa89eb-ca4a-4ead-db63-f9a694fd0080"
      },
      "source": [
        "date_inverter('03/20/1977')"
      ],
      "execution_count": null,
      "outputs": [
        {
          "output_type": "execute_result",
          "data": {
            "application/vnd.google.colaboratory.intrinsic+json": {
              "type": "string"
            },
            "text/plain": [
              "'19772003'"
            ]
          },
          "metadata": {
            "tags": []
          },
          "execution_count": 4
        }
      ]
    },
    {
      "cell_type": "markdown",
      "metadata": {
        "id": "5CMK0oA9KcpV",
        "colab_type": "text"
      },
      "source": [
        "3) A typical car can hold four passengers and one driver, allowing five people to travel around. Given n number of people, `return` how many cars are needed to seat everyone comfortably."
      ]
    },
    {
      "cell_type": "code",
      "metadata": {
        "id": "gKFWC_dkKcpW",
        "colab_type": "code",
        "colab": {}
      },
      "source": [
        "def car(n):\n",
        "  if n%5 == 0:\n",
        "    return (n/5)\n",
        "  if n%5 !=0:\n",
        "    return int((n/5))+1"
      ],
      "execution_count": null,
      "outputs": []
    },
    {
      "cell_type": "code",
      "metadata": {
        "id": "GRFKAa4FVGiL",
        "colab_type": "code",
        "colab": {
          "base_uri": "https://localhost:8080/",
          "height": 34
        },
        "outputId": "6d3e0c75-184c-4d1b-ad59-8e1dc915b9ec"
      },
      "source": [
        "car(26)"
      ],
      "execution_count": null,
      "outputs": [
        {
          "output_type": "execute_result",
          "data": {
            "text/plain": [
              "6"
            ]
          },
          "metadata": {
            "tags": []
          },
          "execution_count": 45
        }
      ]
    },
    {
      "cell_type": "markdown",
      "metadata": {
        "id": "E2A1jmokKcpa",
        "colab_type": "text"
      },
      "source": [
        "4) Create a function that replaces all the vowels in a string with the character '#'."
      ]
    },
    {
      "cell_type": "code",
      "metadata": {
        "id": "nVDU-VI2Kcpb",
        "colab_type": "code",
        "colab": {}
      },
      "source": [
        "vogais = ['a','e','i','o','u','A','E','I','O','U']\n",
        "def no_vowel(xpto):\n",
        "  for element in vogais:\n",
        "     xpto = xpto.replace(element,'#')\n",
        "  return xpto\n",
        "    \n",
        "    "
      ],
      "execution_count": null,
      "outputs": []
    },
    {
      "cell_type": "code",
      "metadata": {
        "id": "VRTGm1cBc0wL",
        "colab_type": "code",
        "colab": {
          "base_uri": "https://localhost:8080/",
          "height": 35
        },
        "outputId": "b5b786f3-960d-43f9-ed04-fdd1e5f60f00"
      },
      "source": [
        "no_vowel('areia')"
      ],
      "execution_count": null,
      "outputs": [
        {
          "output_type": "execute_result",
          "data": {
            "application/vnd.google.colaboratory.intrinsic+json": {
              "type": "string"
            },
            "text/plain": [
              "'#r###'"
            ]
          },
          "metadata": {
            "tags": []
          },
          "execution_count": 234
        }
      ]
    },
    {
      "cell_type": "markdown",
      "metadata": {
        "id": "Dxt2I2skKcpe",
        "colab_type": "text"
      },
      "source": [
        "5) Write a function that inverts the keys and values of a dictionary."
      ]
    },
    {
      "cell_type": "code",
      "metadata": {
        "id": "fYuxViY4Kcpf",
        "colab_type": "code",
        "colab": {}
      },
      "source": [
        "#Ref aula 6 - Comprehensions_Generators\n",
        "def inverting_dict(dictx):\n",
        "  dict_new = {value:key for key, value in dictx.items()}\n",
        "  return dict_new"
      ],
      "execution_count": null,
      "outputs": []
    },
    {
      "cell_type": "code",
      "metadata": {
        "id": "gQQkf2ziM9ky",
        "colab_type": "code",
        "colab": {
          "base_uri": "https://localhost:8080/",
          "height": 34
        },
        "outputId": "d964f510-b458-4500-dbb3-79971189166a"
      },
      "source": [
        "inverting_dict({'String': 1, 'Set': 2, 'List': 3, 'Dictionary': 4})"
      ],
      "execution_count": null,
      "outputs": [
        {
          "output_type": "execute_result",
          "data": {
            "text/plain": [
              "{1: 'String', 2: 'Set', 3: 'List', 4: 'Dictionary'}"
            ]
          },
          "metadata": {
            "tags": []
          },
          "execution_count": 183
        }
      ]
    },
    {
      "cell_type": "markdown",
      "metadata": {
        "id": "ANWnqTMOKcpi",
        "colab_type": "text"
      },
      "source": [
        "6) Create a function that takes a list of strings and return a list, sorted from shortest to longest."
      ]
    },
    {
      "cell_type": "code",
      "metadata": {
        "id": "mZtWxRnBKcpi",
        "colab_type": "code",
        "colab": {}
      },
      "source": [
        "def short_long(*args):\n",
        "  list =  sorted(args, key=len)\n",
        "  return list"
      ],
      "execution_count": null,
      "outputs": []
    },
    {
      "cell_type": "code",
      "metadata": {
        "id": "rbRAZeOkOdbZ",
        "colab_type": "code",
        "colab": {
          "base_uri": "https://localhost:8080/",
          "height": 34
        },
        "outputId": "90a060ef-8521-4a54-da69-598be2133045"
      },
      "source": [
        "short_long('Python', 'is', 'kiling', 'myself')"
      ],
      "execution_count": null,
      "outputs": [
        {
          "output_type": "execute_result",
          "data": {
            "text/plain": [
              "['is', 'Python', 'kiling', 'myself']"
            ]
          },
          "metadata": {
            "tags": []
          },
          "execution_count": 232
        }
      ]
    },
    {
      "cell_type": "markdown",
      "metadata": {
        "id": "tNO5ECZhKcpn",
        "colab_type": "text"
      },
      "source": [
        "7) Create a function that returns True if the first list is a subset of the second. Return False otherwise."
      ]
    },
    {
      "cell_type": "code",
      "metadata": {
        "id": "6Rxd9Y94Kcpn",
        "colab_type": "code",
        "colab": {
          "base_uri": "https://localhost:8080/",
          "height": 34
        },
        "outputId": "af41610e-d050-476f-8584-360239c00916"
      },
      "source": [
        "list2 = [1,2,3]\n",
        "list1 = [1]\n",
        "set1 = set(list1)\n",
        "set2 = set(list2)\n",
        "subset = set1.issubset(set2)\n",
        "print(subset)"
      ],
      "execution_count": null,
      "outputs": [
        {
          "output_type": "stream",
          "text": [
            "True\n"
          ],
          "name": "stdout"
        }
      ]
    },
    {
      "cell_type": "code",
      "metadata": {
        "id": "0hkpmCFcI51R",
        "colab_type": "code",
        "colab": {}
      },
      "source": [
        "def check_subset(list1,list2):\n",
        "  subset = set(list1).issubset(set(list2))\n",
        "  return(subset)"
      ],
      "execution_count": null,
      "outputs": []
    },
    {
      "cell_type": "code",
      "metadata": {
        "id": "BGOmd13gWse8",
        "colab_type": "code",
        "colab": {
          "base_uri": "https://localhost:8080/",
          "height": 34
        },
        "outputId": "98c5a1c0-ce86-4998-ccb7-cea86ebf5a00"
      },
      "source": [
        "check_subset([2,2,3],[1,2,3,4,5])"
      ],
      "execution_count": null,
      "outputs": [
        {
          "output_type": "execute_result",
          "data": {
            "text/plain": [
              "True"
            ]
          },
          "metadata": {
            "tags": []
          },
          "execution_count": 49
        }
      ]
    },
    {
      "cell_type": "markdown",
      "metadata": {
        "id": "WXxCSclQKcps",
        "colab_type": "text"
      },
      "source": [
        "8) Create a function that takes an integer and returns the factorial of that integer. That is, the integer multiplied by all positive lower integers."
      ]
    },
    {
      "cell_type": "code",
      "metadata": {
        "id": "n2k038eKTeHJ",
        "colab_type": "code",
        "colab": {}
      },
      "source": [
        "# Ref exercicio fibo ruim (recursiva)\n",
        "def fatorial(fator):\n",
        "  if fator <2:\n",
        "    return 1\n",
        "  else:\n",
        "    return fator*fatorial(fator-1)"
      ],
      "execution_count": null,
      "outputs": []
    },
    {
      "cell_type": "code",
      "metadata": {
        "id": "LR2FwvGoSQcu",
        "colab_type": "code",
        "colab": {
          "base_uri": "https://localhost:8080/",
          "height": 34
        },
        "outputId": "cfd175f0-5a6b-42c0-a61f-274bc105ecaa"
      },
      "source": [
        "fatorial(4)"
      ],
      "execution_count": null,
      "outputs": [
        {
          "output_type": "execute_result",
          "data": {
            "text/plain": [
              "24"
            ]
          },
          "metadata": {
            "tags": []
          },
          "execution_count": 228
        }
      ]
    },
    {
      "cell_type": "markdown",
      "metadata": {
        "id": "8LjN149yKcpv",
        "colab_type": "text"
      },
      "source": [
        "9) Create a function that takes a number as an argument and returns how many times it is multiple of 3."
      ]
    },
    {
      "cell_type": "code",
      "metadata": {
        "id": "2XRdDXLLKcpw",
        "colab_type": "code",
        "colab": {}
      },
      "source": [
        "def mult3(n):\n",
        "  count = 0\n",
        "  while n >=1:\n",
        "    if n%3 == 0:\n",
        "      n = n/3\n",
        "      count += 1\n",
        "    else:\n",
        "      break\n",
        "\n",
        "  return count"
      ],
      "execution_count": null,
      "outputs": []
    },
    {
      "cell_type": "code",
      "metadata": {
        "id": "DIe-Oud9G5BM",
        "colab_type": "code",
        "colab": {
          "base_uri": "https://localhost:8080/",
          "height": 34
        },
        "outputId": "a12fb302-1ad4-4bf6-c883-ffce7ff004ef"
      },
      "source": [
        "mult3(7)"
      ],
      "execution_count": null,
      "outputs": [
        {
          "output_type": "execute_result",
          "data": {
            "text/plain": [
              "0"
            ]
          },
          "metadata": {
            "tags": []
          },
          "execution_count": 8
        }
      ]
    },
    {
      "cell_type": "code",
      "metadata": {
        "id": "2x2DZJXQGxzY",
        "colab_type": "code",
        "colab": {
          "base_uri": "https://localhost:8080/",
          "height": 34
        },
        "outputId": "cbacab50-b3bc-48d6-c631-c3da566b55b9"
      },
      "source": [
        "mult3(81)"
      ],
      "execution_count": null,
      "outputs": [
        {
          "output_type": "execute_result",
          "data": {
            "text/plain": [
              "4"
            ]
          },
          "metadata": {
            "tags": []
          },
          "execution_count": 7
        }
      ]
    },
    {
      "cell_type": "markdown",
      "metadata": {
        "id": "rXxHq_mJKcpy",
        "colab_type": "text"
      },
      "source": [
        "10) Create a function that sorts a list and removes all duplicate items from it. (Don't use 'set')"
      ]
    },
    {
      "cell_type": "code",
      "metadata": {
        "id": "NzWTwzsjKcpz",
        "colab_type": "code",
        "colab": {}
      },
      "source": [
        "def no_duplicates(lista):\n",
        "  clean_lista = []\n",
        "  lista.sort()\n",
        "  for elem in lista:\n",
        "    if elem in clean_lista:\n",
        "      pass\n",
        "    else:\n",
        "      clean_lista.append(elem)\n",
        "  return clean_lista\n"
      ],
      "execution_count": null,
      "outputs": []
    },
    {
      "cell_type": "code",
      "metadata": {
        "id": "jcM1k06-HLZW",
        "colab_type": "code",
        "colab": {
          "base_uri": "https://localhost:8080/",
          "height": 34
        },
        "outputId": "b91f4042-123e-419e-8a0e-87c8510b65ff"
      },
      "source": [
        "no_duplicates([5,5,5,5,5,5,5,2,3])"
      ],
      "execution_count": null,
      "outputs": [
        {
          "output_type": "execute_result",
          "data": {
            "text/plain": [
              "[2, 3, 5]"
            ]
          },
          "metadata": {
            "tags": []
          },
          "execution_count": 10
        }
      ]
    },
    {
      "cell_type": "code",
      "metadata": {
        "id": "MkXOmvk-HQrs",
        "colab_type": "code",
        "colab": {
          "base_uri": "https://localhost:8080/",
          "height": 34
        },
        "outputId": "f2517c35-ae12-4f1b-b964-8c22ab183c08"
      },
      "source": [
        "no_duplicates([2,3])"
      ],
      "execution_count": null,
      "outputs": [
        {
          "output_type": "execute_result",
          "data": {
            "text/plain": [
              "[2, 3]"
            ]
          },
          "metadata": {
            "tags": []
          },
          "execution_count": 11
        }
      ]
    },
    {
      "cell_type": "code",
      "metadata": {
        "id": "x2VDa0HZHU2W",
        "colab_type": "code",
        "colab": {}
      },
      "source": [
        ""
      ],
      "execution_count": null,
      "outputs": []
    }
  ]
}